{
 "cells": [
  {
   "cell_type": "code",
   "execution_count": 1,
   "metadata": {},
   "outputs": [],
   "source": [
    "# import numpy as np\n",
    "# import pandas as pd\n",
    "# import re, nltk, spacy, gensim\n",
    "# from sklearn.decomposition import LatentDirichletAllocation, TruncatedSVD #For LDA\n",
    "# from sklearn.feature_extraction.text import CountVectorizer, TfidfVectorizer\n",
    "# from sklearn.model_selection import GridSearchCV\n",
    "# from pprint import pprint"
   ]
  },
  {
   "cell_type": "code",
   "execution_count": 2,
   "metadata": {},
   "outputs": [
    {
     "name": "stderr",
     "output_type": "stream",
     "text": [
      "[nltk_data] Downloading package wordnet to\n",
      "[nltk_data]     /home/kacha_nimbu/nltk_data...\n",
      "[nltk_data]   Package wordnet is already up-to-date!\n"
     ]
    }
   ],
   "source": [
    "import gensim\n",
    "from gensim.utils import simple_preprocess\n",
    "from gensim.parsing.preprocessing import STOPWORDS\n",
    "from nltk.stem import WordNetLemmatizer, SnowballStemmer\n",
    "from nltk.stem.porter import *\n",
    "import numpy as np\n",
    "np.random.seed(2018)\n",
    "import nltk\n",
    "nltk.download('wordnet')\n",
    "import json"
   ]
  },
  {
   "cell_type": "code",
   "execution_count": 3,
   "metadata": {},
   "outputs": [],
   "source": [
    "stemmer=SnowballStemmer('english')\n",
    "def lemmatize_stemming(text):\n",
    "    return stemmer.stem(WordNetLemmatizer().lemmatize(text, pos='v'))\n",
    "\n"
   ]
  },
  {
   "cell_type": "code",
   "execution_count": 4,
   "metadata": {},
   "outputs": [],
   "source": [
    "def preprocess(text):\n",
    "    result = []\n",
    "    for token in gensim.utils.simple_preprocess(text):\n",
    "        if token not in gensim.parsing.preprocessing.STOPWORDS and len(token) > 3:\n",
    "            result.append(lemmatize_stemming(token))\n",
    "    return result"
   ]
  },
  {
   "cell_type": "code",
   "execution_count": 21,
   "metadata": {},
   "outputs": [],
   "source": [
    "import ast\n",
    "file = open('../march15dict.txt', 'r').read()\n",
    "news_dict = ast.literal_eval(file)\n",
    "news_list=[]\n",
    "for key in news_dict:\n",
    "    news_list.append(news_dict[key])"
   ]
  },
  {
   "cell_type": "code",
   "execution_count": 22,
   "metadata": {},
   "outputs": [],
   "source": [
    "from pandas import *\n",
    "df=DataFrame()"
   ]
  },
  {
   "cell_type": "code",
   "execution_count": 23,
   "metadata": {},
   "outputs": [
    {
     "data": {
      "text/plain": [
       "61"
      ]
     },
     "execution_count": 23,
     "metadata": {},
     "output_type": "execute_result"
    }
   ],
   "source": [
    "df['headline_text']=news_list\n",
    "df['index'] = range(1, len(df) + 1)\n",
    "df.head()\n",
    "len(df)"
   ]
  },
  {
   "cell_type": "code",
   "execution_count": 24,
   "metadata": {},
   "outputs": [
    {
     "name": "stdout",
     "output_type": "stream",
     "text": [
      "original document: \n",
      "['Good', 'Friday.', '(Want', 'this', 'by', 'email?', 'Sign', 'up', 'here.)A', 'fight', 'has', 'broken', 'out', 'between', 'TPG', 'and', 'Bill', 'McGlashan,', 'the', 'senior', 'executive', 'caught', 'up', 'in', 'a', 'huge', 'college', 'bribery', 'scandal,', 'over', 'how', 'he', 'left', 'the', '$103', 'billion', 'investment', 'giant,', 'Michael', 'de', 'la', 'Merced', 'of', 'DealBook', 'reports.Mr.', 'McGlashan', 'had', 'initially', 'been', 'put', 'on', 'leave', 'by', 'TPG', 'after', 'being', 'accused', 'of', 'collaborating', 'with', 'William', 'Singer,', 'who', 'ran', 'the', 'college', 'preparatory', 'business', 'at', 'the', 'center', 'of', 'the', 'scandal.', 'Prosecutors', 'say', 'that', 'Mr.', 'Singer', 'advised', 'the', 'financier', 'to', 'claim', 'that', 'his', 'son', 'had', 'learning', 'disabilities,', 'and', 'that', 'Mr.', 'McGlashan', 'paid', '$50,000', 'to', 'Mr.', 'Singers', 'charity.TPG', 'said', 'it', 'fired', 'him', 'for', 'cause', 'yesterday.', 'We', 'believe', 'the', 'behavior', 'described', 'to', 'be', 'inexcusable', 'and', 'antithetical', 'to', 'the', 'values', 'of', 'our', 'entire', 'organization,', 'the', 'firm', 'said', 'in', 'a', 'statement.TPG', 'told', 'employees', 'and', 'partners', 'that', 'it', 'learned', 'about', 'the', 'accusations', 'against', 'Mr.', 'McGlashan', 'only', 'after', 'prosecutors', 'unsealed', 'their', 'case,', 'according', 'to', 'an', 'internal', 'note', 'reviewed', 'by', 'DealBook.But', 'Mr.', 'McGlashan', 'said', 'that', 'he', 'had', 'already', 'resigned.', 'I', 'am', 'deeply', 'sorry', 'this', 'very', 'difficult', 'situation', 'may', 'interfere', 'with', 'the', 'work', 'to', 'which', 'I', 'have', 'devoted', 'my', 'life,', 'he', 'wrote', 'in', 'a', 'note.Emails', 'between', 'Mr.', 'McGlashan', 'and', 'top', 'TPG', 'executives,', 'provided', 'by', 'his', 'spokesman,', 'appear', 'to', 'confirm', 'that.', 'Mr.', 'McGlashan', 'emailed', 'his', 'resignation', 'at', '1:02', 'p.m.', 'yesterday,', 'according', 'to', 'the', 'correspondence.', 'At', '2:03', 'p.m.,', 'Jon', 'Winkelried,', 'one', 'of', 'TPGs', 'co-C.E.O.s,', 'replied,', 'acknowledging', 'receipt', 'of', 'the', 'resignation', '', 'but', 'he', 'also', 'included', 'a', 'notice', 'of', 'termination.At', '2:20', 'p.m.,', 'Mr.', 'McGlashan', 'responded,', 'I', 'am', 'perplexed', 'by', 'your', 'attempt', 'to', 'terminate', 'me', 'because,', 'as', 'you', 'acknowledged', 'in', 'your', 'email,', 'you', 'had', 'already', 'received', 'my', 'resignation.Its', 'unclear', 'what', 'is', 'at', 'stake', 'financially', 'for', 'Mr.', 'McGlashan', 'in', 'terms', 'of', 'his', 'TPG', 'severance.', 'In', 'his', 'email,', 'Mr.', 'Winkelried', 'wrote', 'to', 'Mr.', 'McGlashan,', 'We', 'will', 'be', 'in', 'touch', 'to', 'advise', 'you', 'of', 'the', 'economic', 'consequences', 'of', 'the', 'termination', 'of', 'your', 'employment.A', 'spokesman', 'for', 'TPG', 'declined', 'to', 'comment', 'on', 'the', 'emails.More:', 'The', 'man', 'who', 'tipped', 'off', 'authorities', 'to', 'the', 'college', 'admissions', 'scandal', 'was', 'reportedly', 'a', 'financier', 'who', 'was', 'being', 'investigated', 'in', 'a', 'securities', 'fraud', 'case.', 'And', 'heres', 'a', 'reminder', 'why', 'paying', 'bribes', 'to', 'get', 'your', 'child', 'into', 'college', 'is', 'a', 'federal', 'crime.Last', 'week,', 'Mark', 'Zuckerberg', 'announced', 'that', 'Facebook', 'would', 'pivot', 'toward', 'privacy.', 'With', 'two', 'of', 'the', 'companys', 'top', 'executives', 'leaving', 'just', 'days', 'later,', 'it', 'appears', 'the', 'change', 'has', 'had', 'an', 'immediate', 'impact.The', 'two', 'executives', '', 'Chris', 'Cox,', 'Facebooks', 'chief', 'product', 'officer,', 'who', 'is', 'widely', 'regarded', 'as', 'the', 'companys', 'No.', '3,', 'and', 'Chris', 'Daniels,', 'the', 'head', 'of', 'WhatsApp', '', 'announced', 'yesterday', 'that', 'they', 'were', 'to', 'leave', 'the', 'company.', 'Their', 'departure', 'comes', 'after', 'disagreements', 'with', 'Mark', 'Zuckerberg,', 'the', 'chief', 'executive,', 'over', 'the', 'social', 'networks', 'future', 'direction,', 'according', 'to', 'Mike', 'Isaac', 'of', 'the', 'NYT.The', 'differences', 'stemmed', 'from', 'Mr.', 'Zuckerbergs', 'asserting', 'control', 'over', 'his', 'company', 'and', 'its', 'apps', '', 'Instagram,', 'WhatsApp', 'and', 'Facebook', 'Messenger', '', 'by', 'rolling', 'out', 'a', 'plan', 'to', 'integrate', 'the', 'services', 'into', 'a', 'single', 'privacy-focused', 'platform,', 'according', 'to', 'six', 'people', 'involved', 'in', 'the', 'situation,', 'he', 'adds.Several', 'executives', 'at', 'Facebook', 'feared', 'that', 'knitting', 'together', 'the', 'apps', 'could', 'take', 'a', 'toll', 'on', 'the', 'popularity', 'and', 'growth', 'of', 'their', 'individual', 'products,', 'according', 'to', 'Mr.', 'Isaac.', 'They', 'were', 'also', 'reportedly', 'worried', 'that', 'they', 'could', 'lose', 'autonomy', 'and', 'power.', 'Traces', 'of', 'those', 'sentiments', 'could', 'be', 'seen', 'in', 'a', 'public', 'statement', 'issued', 'by', 'Mr.', 'Cox.Facebook', 'has', 'become', 'Zuckerbergs', 'company', 'now', 'more', 'than', 'ever,', 'Shira', 'Ovide', 'of', 'Bloomberg', 'Opinion', 'writes.', 'Whether', 'thats', 'good', 'for', 'the', 'company', 'or', 'for', 'the', 'companys', 'billions', 'of', 'users', '', 'well', 'see.In', 'the', 'wake', 'of', 'two', 'fatal', 'crashes', 'within', 'five', 'months', 'that', 'involved', 'its', '737', 'Max', 'airplanes,', 'the', 'company', 'is', 'reeling.Boeing', 'will', 'suspend', 'delivery', 'of', 'its', '737', 'Max', 'jets,', 'it', 'announced', 'yesterday,', 'but', 'continue', 'to', 'produce', 'them.', 'It', 'currently', 'builds', '52', 'aircraft', 'a', 'month,', 'many', 'of', 'which', 'are', 'Max', 'models,', 'and', 'entirely', 'shutting', 'down', 'production', 'would', 'prove', 'costly.But', 'the', 'policy', 'may', 'only', 'last', 'so', 'long.', 'Boeings', 'production', 'facility', 'in', 'Renton,', 'Wash.,', 'has', 'only', 'limited', 'capacity', 'for', 'storing', 'the', 'airplanes,', 'according', 'to', 'the', 'WSJ.', 'Boeing', 'may,', 'however,', 'be', 'able', 'to', 'apply', 'for', 'special', 'permits', 'to', 'fly', 'the', 'planes', 'to', 'other', 'storage', 'sites,', 'according', 'to', 'Reuters.Meanwhile,', 'big', 'questions', 'hang', 'over', 'the', 'Maxs', 'software.', 'Pilots', 'from', 'Southwest', 'Airlines', 'and', 'American', 'Airlines', 'requested', 'software', 'updates', 'for', 'some', 'of', 'the', '737', 'Maxs', 'automated', 'systems', 'last', 'year,', 'reports', 'the', 'NYT.', 'They', 'were', 'promised', 'updates', 'within', 'six', 'weeks,', 'one', 'pilot', 'said,', 'but', 'they', 'have', 'still', 'not', 'arrived.', 'Similarities', 'between', 'the', 'two', 'recent', 'crashes', 'point', 'to', 'potential', 'problems', 'with', 'the', 'automated', 'system', 'that', 'requires', 'the', 'update.And', 'the', 'U.S.', 'Air', 'Force', 'has', 'also', 'lost', 'trust', 'in', 'Boeing.', 'In', 'a', 'case', 'unrelated', 'to', 'the', 'Max', 'debacle,', 'Air', 'Force', 'officials', 'said', 'that', 'quality', 'control', 'issues', 'with', 'a', 'new', 'aerial', 'refueling', 'tanker', 'caused', 'it', 'to', 'suspend', 'deliveries', 'in', 'February.British', 'lawmakers', 'yesterday', 'voted', 'to', 'postpone', 'the', 'countrys', 'departure', 'from', 'the', 'E.U.,', 'but', 'narrowly', 'failed', 'to', 'wrest', 'control', 'of', 'the', 'Brexit', 'process', 'from', 'Prime', 'Minister', 'Theresa', 'Mays', 'government,', 'write', 'Ellen', 'Barry', 'and', 'Stephen', 'Castle', 'of', 'the', 'NYT.Mrs.', 'May', 'fended', 'off', '', 'by', 'just', 'two', 'votes', '', 'a', 'remarkable', 'power', 'grab', 'by', 'lawmakers', 'frustrated', 'at', 'months', 'of', 'political', 'deadlock', 'that', 'has', 'left', 'the', 'country', 'in', 'limbo', 'with', 'just', '15', 'days', 'to', 'go', 'before', 'its', 'scheduled', 'departure', 'from', 'the', 'bloc.', 'They', 'later', 'voted', 'by', '412', 'to', '202', 'for', 'a', 'motion', 'that', 'means', 'that', 'Britain', 'will', 'almost', 'certainly', 'not', 'leave', 'the', 'E.U.', 'as', 'scheduled', 'on', 'March', '29.What', 'remains', 'unclear', 'now', 'is', 'how', 'long', 'the', 'delay', 'will', 'be.', 'Mrs.', 'May', 'plans', 'to', 'hold', 'a', 'third', 'vote', 'on', 'her', 'unpopular', 'plan', 'for', 'withdrawal,', 'despite', 'have', 'suffered', 'two', 'staggering', 'defeats', 'on', 'it', 'already.', 'If', 'the', 'prime', 'minister', 'should', 'succeed', 'in', 'a', 'third', 'attempt,', 'she', 'would', 'then', 'request', 'a', 'short', 'delay', '', 'no', 'more', 'than', 'three', 'months', '', 'from', 'E.U.', 'leaders.But', 'the', 'motion', 'noted', 'that', 'should', 'her', 'plan', 'go', 'down', 'to', 'defeat', 'once', 'again,', 'Mrs.', 'May', 'might', 'have', 'to', 'ask', 'European', 'leaders', 'for', 'a', 'much', 'longer', 'delay,', 'with', 'unknown', 'consequences.More:', 'Brexits', 'importance', 'to', 'the', 'global', 'economy', 'may', 'have', 'been', 'overstated.Tulanes', 'Corporate', 'Law', 'Institute,', 'a', 'conference', 'held', 'every', 'spring', 'in', 'New', 'Orleans,', 'is', 'where', 'the', 'mergers-and-acquisitions', 'world', 'gathers', 'to', 'talk', 'shop.', 'Usually,', 'its', 'about', 'how', 'good', 'business', 'is', '', 'but', 'a', 'sense', 'of', 'unease', 'has', 'intruded', 'this', 'years', 'festivities,', 'Michael', 'de', 'la', 'Merced', 'of', 'DealBook', 'reports.Bankers', 'and', 'lawyers', 'should', 'be', 'celebrating.', 'Last', 'years', '$4.2', 'trillion', 'in', 'global', 'announced', 'deals', 'was', 'the', 'third-best', 'year', 'ever,', 'according', 'to', 'Citigroup.', 'Nearly', 'every', 'industry', 'enjoyed', 'a', 'rise', 'in', 'deal-making.And', 'M.', '&', 'A.', 'should', 'keep', 'rolling', 'on.', 'Mark', 'Shafir,', 'the', 'co-head', 'of', 'mergers', 'and', 'acquisitions', 'at', 'Citigroup,', 'and', 'others', 'at', 'the', 'conference', 'noted', 'that', 'takeover', 'financing', 'remains', 'cheap,', 'shareholders', 'seem', 'to', 'support', 'sensible', 'deals', 'and', 'shareholder', 'activists', 'are', 'continuing', 'to', 'push', 'companies', 'into', 'transactions.But', 'there', 'is', 'no', 'doubt', 'that', 'we', 'are', 'in', 'a', 'much', 'less', 'bullish', 'environment', 'for', 'M.', '&', 'A.', 'than', 'a', 'year', 'ago,', 'Mr.', 'Shafir', 'said.', 'Among', 'the', 'pressures', 'on', 'deal-making:', 'There', 'are', 'fears', 'about', 'a', 'potential', 'recession,', 'the', 'ongoing', 'trade', 'wars', 'and', 'the', 'persistent', 'worry', 'that', 'the', 'stock', 'market', 'will', 'suffer', 'like', 'it', 'did', 'late', 'last', 'year.', 'Regulators', 'are', 'a', 'big', 'issue', 'too,', 'especially', 'the', 'concern', 'that', 'they', 'could', 'be', 'used', 'as', 'political', 'cudgels.', 'One', 'of', 'the', 'big', 'topics', 'at', 'the', 'conference', 'was', 'the', 'growing', 'importance', 'of', 'overseers', 'like', 'Cfius,', 'the', 'American', 'government', 'panel', 'that', 'reviews', 'cross-border', 'deals', 'for', 'national', 'security', 'concerns.', 'And', 'then', 'theres', 'the', 'natural', 'cycle', 'of', 'deal-making.', 'Booms', 'tend', 'to', 'be', 'followed', 'by', 'big', 'drops', 'in', 'volumes,', 'and', 'this', 'cycle', 'has', 'gone', 'on', 'longer', 'than', 'most,', 'Mr.', 'Shafir', 'said.The', 'Connecticut', 'Supreme', 'Court', 'cleared', 'the', 'way', 'for', 'a', 'lawsuit', 'against', 'the', 'companies', 'that', 'manufactured', 'and', 'sold', 'the', 'semiautomatic', 'rifle', 'used', 'in', 'the', 'massacre', 'at', 'Sandy', 'Hook', 'Elementary', 'School', 'in', '2012,', 'Rick', 'Rojas', 'and', 'Kristin', 'Hussey', 'of', 'the', 'NYT', 'report.The', 'ruling', 'allows', 'a', 'case,', 'brought', 'by', 'victims', 'families,', 'to', 'go', 'around', 'the', 'immunity', 'that', 'Congress', 'granted', 'gun', 'companies', 'to', 'shield', 'them', 'from', 'litigation', 'when', 'their', 'weapons', 'are', 'used', 'in', 'a', 'crime.', 'That', 'leaves', 'open', 'the', 'potential', 'for', 'Remington,', 'which', 'made', 'the', 'rifle', 'used', 'in', 'the', 'attack,', 'to', 'be', 'held', 'liable.Lawyers', 'for', 'the', 'families', 'argued', 'that', 'advertising', 'campaigns', 'for', 'guns', 'appeared', 'to', 'be', 'courting', 'troubled', 'young', 'men,', 'like', 'Adam', 'Lanza,', 'who', 'carried', 'out', 'the', 'Sandy', 'Hook', 'shooting.', 'In', 'a', '4-3', 'ruling,', 'justices', 'found', 'that', 'the', 'sweeping', 'federal', 'protections', 'did', 'not', 'prevent', 'the', 'families', 'from', 'bringing', 'a', 'lawsuit', 'based', 'on', 'wrongful', 'marketing', 'claims,', 'Mr.', 'Rojas', 'and', 'Ms.', 'Hussey', 'write.The', 'decision', 'represents', 'a', 'significant', 'development', 'in', 'the', 'long-running', 'battle', 'between', 'gun', 'control', 'advocates', 'and', 'the', 'gun', 'lobby,', 'Mr.', 'Rojas', 'and', 'Ms.', 'Hussey', 'add.', 'And', 'it', 'could', 'chart', 'a', 'possible', 'legal', 'road', 'map', 'for', 'victims', 'relatives', 'and', 'survivors', 'from', 'other', 'mass', 'shootings.President', 'Trump', 'appears', 'to', 'have', 'reeled', 'in', 'his', 'claim', 'on', 'Wednesday', 'of', 'being', 'not', 'in', 'a', 'rush', 'whatsoever', 'to', 'reach', 'a', 'trade', 'deal', 'with', 'China.Well', 'have', 'news', 'on', 'China.', 'Probably', 'one', 'way', 'or', 'the', 'other,', 'were', 'going', 'to', 'know', 'over', 'the', 'next', 'three', 'to', 'four', 'weeks,', 'Mr.', 'Trump', 'told', 'reporters', 'yesterday,', 'according', 'to', 'CNBC.', 'He', 'added', 'that', 'China', 'had', 'been', 'very', 'responsible', 'and', 'very', 'reasonable.Such', 'optimism', 'may', 'have', 'been', 'helped', 'along', 'by', 'the', 'news', 'that', 'China', 'made', 'last-minute', 'changes', 'to', 'a', 'proposed', 'foreign-investment', 'law,', 'in', 'an', 'attempt', 'to', 'address', 'U.S.', 'complaints', 'about', 'forced', 'technology', 'transfer,', 'according', 'to', 'the', 'WSJ.', 'Intellectual', 'property', 'concerns', 'have', 'been', 'a', 'major', 'part', 'of', 'the', 'trade', 'dispute', 'between', 'America', 'and', 'China.But', 'a', 'final', 'agreement', 'is', 'still', 'some', 'way', 'off.', '', 'Treasury', 'Secretary', 'Steven', 'Mnuchin', 'said', 'yesterday', 'that', 'a', 'proposed', 'meeting', 'between', 'Mr.', 'Trump', 'and', 'President', 'Xi', 'Jinping', 'of', 'China', 'wont', 'happen', 'this', 'month', 'because', 'there', 'is', 'still', 'more', 'work', 'to', 'do.', 'Sources', 'tell', 'Bloomberg', 'it', 'could', 'happen', 'in', 'April.Elon', 'Musk', 'last', 'night', 'unveiled', 'a', 'new', 'seven-seat', 'compact', 'sport-utility', 'vehicle', 'called', 'the', 'Model', 'Y,', 'Neal', 'E.', 'Boudette', 'and', 'Raymond', 'Zhong', 'of', 'the', 'NYT', 'write:', 'The', 'Model', 'Y', 'will', 'be', 'available', 'beginning', 'next', 'year,', 'the', 'company', 'said,', 'at', 'prices', 'ranging', 'from', '$39,000', 'to', '$60,000,', 'depending', 'on', 'the', 'model,', 'with', 'a', '$2,500', 'deposit.', 'A', 'long-range', 'version', 'will', 'be', 'able', 'to', 'drive', '300', 'miles', 'on', 'a', 'single', 'charge,', 'it', 'said,', 'while', 'the', '$60,000', 'Performance', 'model', 'will', 'have', 'a', 'top', 'speed', 'of', '150', 'miles', 'per', 'hour.', 'It', 'has', 'the', 'functionality', 'of', 'an', 'S.U.V.,', 'but', 'it', 'will', 'ride', 'like', 'a', 'sports', 'car,', 'Mr.', 'Musk', 'said.', 'This', 'thing', 'will', 'be', 'really', 'tight', 'in', 'corners.The', 'unveiling', 'comes', 'as', 'Tesla', 'confronts', 'sales', 'challenges,', 'Mr.', 'Boudette', 'and', 'Mr.', 'Zhong', 'write.', 'Sales', 'of', 'the', 'Model', 'S', 'and', 'Model', 'X', 'have', 'been', 'flattening,', 'and', 'its', 'push', 'to', 'sell', 'the', 'Model', '3', 'for', '$35,000', 'remains', 'shrouded', 'in', 'uncertainty', 'as', 'the', 'company', 'works', 'out', 'how', 'to', 'cut', 'costs', 'to', 'make', 'that', 'pricing', 'possible.Andrew', 'Weissmann,', 'one', 'of', 'Robert', 'Muellers', 'top', 'deputies,', 'is', 'said', 'to', 'be', 'leaving', 'the', 'special', 'counsels', 'office.Lee', 'Fixel,', 'a', 'partner', 'at', 'Tiger', 'Global', 'Management,', 'is', 'leaving', 'the', 'hedge', 'fund', 'in', 'June.The', 'meat-substitute', 'start-up', 'Impossible', 'Foods', 'hired', 'Dennis', 'Woodside,', 'who', 'was', 'Dropboxs', 'C.O.O.,', 'as', 'its', 'president.Tesla', 'named', 'Vaibhav', 'Taneja', 'as', 'its', 'new', 'chief', 'accounting', 'officer.Goldman', 'Sachs', 'plans', 'to', 'cut', '65', 'jobs', 'because', 'of', 'economic', 'factors.Deals', 'Uber', 'reportedly', 'plans', 'to', 'publicly', 'disclose', 'its', 'I.P.O.', 'prospectus', 'in', 'April.', '(Reuters)', 'A', 'federal', 'judge', 'has', 'ordered', 'a', 'hearing', 'on', 'April', '5', 'to', 'consider', 'the', 'governments', 'settlement', 'allowing', 'CVSs', 'takeover', 'of', 'Aetna', 'to', 'proceed.', '(Reuters)', 'Jamie', 'Dimon', 'of', 'JPMorgan', 'Chase', 'said', 'that', 'European', 'banks', 'need', 'to', 'merge', 'with', 'cross-border', 'rivals', 'to', 'compete', 'globally.', '(Bloomberg)', 'SmileDirectClub,', 'which', 'sells', 'at-home', 'teeth-straightening', 'kits,', 'has', 'reportedly', 'picked', 'JPMorgan', 'to', 'lead', 'its', 'I.P.O.', 'this', 'year.', '(Axios)Politics', 'and', 'policy', 'The', 'Senate', 'voted', 'to', 'overturn', 'President', 'Trumps', 'declaration', 'of', 'a', 'national', 'emergency', 'over', 'a', 'border', 'wall.', 'Trumps', 'response', 'was', 'VETO!', '', 'which', 'would', 'be', 'the', 'first', 'of', 'his', 'presidency.', '(NYT,', '@realDonaldTrump)', 'The', 'House', 'voted', '420', 'to', '0', 'to', 'demand', 'that', 'Robert', 'Muellers', 'forthcoming', 'report', 'be', 'released', 'publicly.', 'Senator', 'Lindsey', 'Graham,', 'Republican', 'of', 'South', 'Carolina,', 'blocked', 'a', 'similar', 'motion', 'in', 'the', 'Senate.', '(NYT)', 'Treasury', 'Secretary', 'Steven', 'Mnuchin', 'said', 'that', 'he', 'cant', 'speculate', 'on', 'how', 'the', 'White', 'House', 'will', 'respond', 'to', 'Democratic', 'requests', 'for', 'President', 'Trumps', 'tax', 'returns.', '(Politico)Tech', 'Spotifys', 'C.E.O.', 'warned', 'that', 'the', 'streaming', 'service', 'would', 'need', 'to', 'raise', 'prices', 'if', 'Apple', 'continues', 'to', 'take', 'a', '30', 'percent', 'fee', 'from', 'companies', 'who', 'use', 'its', 'App', 'Store.', 'Apple', 'said', 'that', 'its', 'policies', 'were', 'fair', 'and', 'that', 'Spotify', 'was', 'trying', 'to', 'bolster', 'its', 'financial', 'results.', '(FT,', 'NYT)', 'Facebook', 'blamed', 'a', 'server', 'configuration', 'change', 'for', 'disruption', 'to', 'its', 'services', 'this', 'week', '', 'a', 'stark', 'reminder', 'that', 'even', 'powerful', 'internet', 'companies', 'can', 'still', 'be', 'crippled', 'by', 'human', 'error.', '(NYT)', 'The', 'E.U.s', 'competition', 'commissioner', 'is', 'reportedly', 'set', 'to', 'issue', 'Google', 'with', 'another', 'antitrust', 'fine', 'relating', 'to', 'its', 'AdSense', 'business', 'next', 'week.', '(FT)', 'Huaweis', 'C.F.O.', 'wanted', 'to', 'quit', 'her', 'job', 'just', 'before', 'she', 'was', 'arrested', 'in', 'Canada,', 'according', 'to', 'the', 'companys', 'founder.', '(Reuters)Best', 'of', 'the', 'rest', 'Shares', 'in', 'G.E.', 'jumped', '2.8', 'percent', 'on', 'Thursday', 'despite', 'its', 'warning', 'of', 'falling', 'profits', 'and', 'a', 'description', 'of', '2019', 'as', 'a', 'reset', 'year.', '(WSJ)', 'Economists', 'have', 'lowered', 'their', 'forecasts', 'for', 'U.S.', 'employment', 'and', 'economic', 'growth', 'in', 'the', 'first', 'quarter.', '(WSJ)', 'Chinas', 'slowdown', 'is', 'spreading', 'from', 'factories', 'to', 'offices,', 'and', 'its', 'second-highest', 'official', 'has', 'promised', 'corporate', 'tax', 'cuts', 'and', 'deregulation', 'to', 'ease', 'the', 'problem.', '(NYT)', 'The', 'S.E.C.', 'accused', 'Volkswagen', 'of', 'undertaking', 'a', 'massive', 'fraud', 'over', 'its', 'diesel', 'emissions', 'scandal.', '(NYT)', 'How', 'TV', 'shows', 'like', 'Succession', 'and', 'Billions', 'depict', 'the', 'lifestyle', 'of', 'the', '1', 'percent.', '(NYT)Thanks', 'for', 'reading!', 'Well', 'see', 'you', 'next', 'week.Wed', 'love', 'your', 'feedback.', 'Please', 'email', 'thoughts', 'and', 'suggestions', 'to', 'business@nytimes.com.']\n",
      "\n",
      "\n",
      " tokenized and lemmatized document: \n",
      "['good', 'friday', 'want', 'email', 'sign', 'fight', 'break', 'mcglashan', 'senior', 'execut', 'catch', 'huge', 'colleg', 'briberi', 'scandal', 'leav', 'billion', 'invest', 'giant', 'michael', 'merc', 'dealbook', 'report', 'mcglashan', 'initi', 'leav', 'accus', 'collabor', 'william', 'singer', 'colleg', 'preparatori', 'busi', 'center', 'scandal', 'prosecutor', 'singer', 'advis', 'financi', 'claim', 'learn', 'disabl', 'mcglashan', 'pay', 'singer', 'chariti', 'say', 'fire', 'caus', 'yesterday', 'believ', 'behavior', 'describ', 'inexcus', 'antithet', 'valu', 'entir', 'organ', 'firm', 'say', 'statement', 'tell', 'employe', 'partner', 'learn', 'accus', 'mcglashan', 'prosecutor', 'unseal', 'case', 'accord', 'intern', 'note', 'review', 'dealbook', 'mcglashan', 'say', 'resign', 'deepli', 'sorri', 'difficult', 'situat', 'interfer', 'work', 'devot', 'life', 'write', 'note', 'email', 'mcglashan', 'execut', 'provid', 'spokesman', 'appear', 'confirm', 'mcglashan', 'email', 'resign', 'yesterday', 'accord', 'correspond', 'winkelri', 'tpgs', 'repli', 'acknowledg', 'receipt', 'resign', 'includ', 'notic', 'termin', 'mcglashan', 'respond', 'perplex', 'attempt', 'termin', 'acknowledg', 'email', 'receiv', 'resign', 'unclear', 'stake', 'financi', 'mcglashan', 'term', 'sever', 'email', 'winkelri', 'write', 'mcglashan', 'touch', 'advis', 'econom', 'consequ', 'termin', 'employ', 'spokesman', 'declin', 'comment', 'email', 'tip', 'author', 'colleg', 'admiss', 'scandal', 'report', 'financi', 'investig', 'secur', 'fraud', 'case', 'here', 'remind', 'pay', 'bribe', 'child', 'colleg', 'feder', 'crime', 'week', 'mark', 'zuckerberg', 'announc', 'facebook', 'pivot', 'privaci', 'compani', 'execut', 'leav', 'day', 'later', 'appear', 'chang', 'immedi', 'impact', 'execut', 'chris', 'facebook', 'chief', 'product', 'offic', 'wide', 'regard', 'compani', 'chris', 'daniel', 'head', 'whatsapp', 'announc', 'yesterday', 'leav', 'compani', 'departur', 'come', 'disagr', 'mark', 'zuckerberg', 'chief', 'execut', 'social', 'network', 'futur', 'direct', 'accord', 'mike', 'isaac', 'differ', 'stem', 'zuckerberg', 'assert', 'control', 'compani', 'app', 'instagram', 'whatsapp', 'facebook', 'messeng', 'roll', 'plan', 'integr', 'servic', 'singl', 'privaci', 'focus', 'platform', 'accord', 'peopl', 'involv', 'situat', 'add', 'execut', 'facebook', 'fear', 'knit', 'app', 'toll', 'popular', 'growth', 'individu', 'product', 'accord', 'isaac', 'report', 'worri', 'lose', 'autonomi', 'power', 'trace', 'sentiment', 'see', 'public', 'statement', 'issu', 'facebook', 'zuckerberg', 'compani', 'shira', 'ovid', 'bloomberg', 'opinion', 'write', 'that', 'good', 'compani', 'compani', 'billion', 'user', 'wake', 'fatal', 'crash', 'month', 'involv', 'airplan', 'compani', 'reel', 'boe', 'suspend', 'deliveri', 'jet', 'announc', 'yesterday', 'continu', 'produc', 'current', 'build', 'aircraft', 'month', 'model', 'entir', 'shut', 'product', 'prove', 'cost', 'polici', 'long', 'boe', 'product', 'facil', 'renton', 'wash', 'limit', 'capac', 'store', 'airplan', 'accord', 'boe', 'abl', 'appli', 'special', 'permit', 'plan', 'storag', 'sit', 'accord', 'reuter', 'question', 'hang', 'max', 'softwar', 'pilot', 'southwest', 'airlin', 'american', 'airlin', 'request', 'softwar', 'updat', 'max', 'autom', 'system', 'year', 'report', 'promis', 'updat', 'week', 'pilot', 'say', 'arriv', 'similar', 'recent', 'crash', 'point', 'potenti', 'problem', 'autom', 'requir', 'updat', 'forc', 'lose', 'trust', 'boe', 'case', 'unrel', 'debacl', 'forc', 'offici', 'say', 'qualiti', 'control', 'issu', 'aerial', 'refuel', 'tanker', 'caus', 'suspend', 'deliveri', 'februari', 'british', 'lawmak', 'yesterday', 'vote', 'postpon', 'countri', 'departur', 'narrowli', 'fail', 'wrest', 'control', 'brexit', 'process', 'prime', 'minist', 'theresa', 'may', 'govern', 'write', 'ellen', 'barri', 'stephen', 'castl', 'fend', 'vote', 'remark', 'power', 'grab', 'lawmak', 'frustrat', 'month', 'polit', 'deadlock', 'leav', 'countri', 'limbo', 'day', 'schedul', 'departur', 'bloc', 'later', 'vote', 'motion', 'mean', 'britain', 'certain', 'leav', 'schedul', 'march', 'remain', 'unclear', 'long', 'delay', 'plan', 'hold', 'vote', 'unpopular', 'plan', 'withdraw', 'despit', 'suffer', 'stagger', 'defeat', 'prime', 'minist', 'succeed', 'attempt', 'request', 'short', 'delay', 'month', 'leader', 'motion', 'note', 'plan', 'defeat', 'european', 'leader', 'longer', 'delay', 'unknown', 'consequ', 'brexit', 'import', 'global', 'economi', 'overst', 'tulan', 'corpor', 'institut', 'confer', 'hold', 'spring', 'orlean', 'merger', 'acquisit', 'world', 'gather', 'talk', 'shop', 'usual', 'good', 'busi', 'sens', 'uneas', 'intrud', 'year', 'festiv', 'michael', 'merc', 'dealbook', 'report', 'banker', 'lawyer', 'celebr', 'year', 'trillion', 'global', 'announc', 'deal', 'best', 'year', 'accord', 'citigroup', 'near', 'industri', 'enjoy', 'rise', 'deal', 'make', 'roll', 'mark', 'shafir', 'head', 'merger', 'acquisit', 'citigroup', 'confer', 'note', 'takeov', 'financ', 'remain', 'cheap', 'sharehold', 'support', 'sensibl', 'deal', 'sharehold', 'activist', 'continu', 'push', 'compani', 'transact', 'doubt', 'bullish', 'environ', 'year', 'shafir', 'say', 'pressur', 'deal', 'make', 'fear', 'potenti', 'recess', 'ongo', 'trade', 'war', 'persist', 'worri', 'stock', 'market', 'suffer', 'like', 'late', 'year', 'regul', 'issu', 'especi', 'concern', 'polit', 'cudgel', 'topic', 'confer', 'grow', 'import', 'overs', 'like', 'cfius', 'american', 'govern', 'panel', 'review', 'cross', 'border', 'deal', 'nation', 'secur', 'concern', 'there', 'natur', 'cycl', 'deal', 'make', 'boom', 'tend', 'follow', 'drop', 'volum', 'cycl', 'go', 'longer', 'shafir', 'say', 'connecticut', 'suprem', 'court', 'clear', 'lawsuit', 'compani', 'manufactur', 'sell', 'semiautomat', 'rifl', 'massacr', 'sandi', 'hook', 'elementari', 'school', 'rick', 'roja', 'kristin', 'hussey', 'report', 'rule', 'allow', 'case', 'bring', 'victim', 'famili', 'immun', 'congress', 'grant', 'compani', 'shield', 'litig', 'weapon', 'crime', 'leav', 'open', 'potenti', 'remington', 'rifl', 'attack', 'hold', 'liabl', 'lawyer', 'famili', 'argu', 'advertis', 'campaign', 'gun', 'appear', 'court', 'troubl', 'young', 'like', 'adam', 'lanza', 'carri', 'sandi', 'hook', 'shoot', 'rule', 'justic', 'sweep', 'feder', 'protect', 'prevent', 'famili', 'bring', 'lawsuit', 'base', 'wrong', 'market', 'claim', 'roja', 'hussey', 'write', 'decis', 'repres', 'signific', 'develop', 'long', 'run', 'battl', 'control', 'advoc', 'lobbi', 'roja', 'hussey', 'chart', 'possibl', 'legal', 'road', 'victim', 'relat', 'survivor', 'mass', 'shoot', 'presid', 'trump', 'appear', 'reel', 'claim', 'wednesday', 'rush', 'whatsoev', 'reach', 'trade', 'deal', 'china', 'news', 'china', 'probabl', 'go', 'know', 'week', 'trump', 'tell', 'report', 'yesterday', 'accord', 'cnbc', 'add', 'china', 'respons', 'reason', 'optim', 'help', 'news', 'china', 'minut', 'chang', 'propos', 'foreign', 'invest', 'attempt', 'address', 'complaint', 'forc', 'technolog', 'transfer', 'accord', 'intellectu', 'properti', 'concern', 'major', 'trade', 'disput', 'america', 'china', 'final', 'agreement', 'treasuri', 'secretari', 'steven', 'mnuchin', 'say', 'yesterday', 'propos', 'meet', 'trump', 'presid', 'jinp', 'china', 'wont', 'happen', 'month', 'work', 'sourc', 'tell', 'bloomberg', 'happen', 'april', 'elon', 'musk', 'night', 'unveil', 'seven', 'seat', 'compact', 'sport', 'util', 'vehicl', 'call', 'model', 'neal', 'boudett', 'raymond', 'zhong', 'write', 'model', 'avail', 'begin', 'year', 'compani', 'say', 'price', 'rang', 'depend', 'model', 'deposit', 'long', 'rang', 'version', 'abl', 'drive', 'mile', 'singl', 'charg', 'say', 'perform', 'model', 'speed', 'mile', 'hour', 'function', 'ride', 'like', 'sport', 'musk', 'say', 'thing', 'tight', 'corner', 'unveil', 'come', 'tesla', 'confront', 'sale', 'challeng', 'boudett', 'zhong', 'write', 'sale', 'model', 'model', 'flatten', 'push', 'sell', 'model', 'remain', 'shroud', 'uncertainti', 'compani', 'work', 'cost', 'price', 'possibl', 'andrew', 'weissmann', 'robert', 'mueller', 'deputi', 'say', 'leav', 'special', 'counsel', 'offic', 'fixel', 'partner', 'tiger', 'global', 'manag', 'leav', 'hedg', 'fund', 'june', 'meat', 'substitut', 'start', 'imposs', 'food', 'hire', 'denni', 'woodsid', 'dropbox', 'presid', 'tesla', 'name', 'vaibhav', 'taneja', 'chief', 'account', 'offic', 'goldman', 'sach', 'plan', 'job', 'econom', 'factor', 'deal', 'uber', 'report', 'plan', 'public', 'disclos', 'prospectus', 'april', 'reuter', 'feder', 'judg', 'order', 'hear', 'april', 'consid', 'govern', 'settlement', 'allow', 'cvss', 'takeov', 'aetna', 'proceed', 'reuter', 'jami', 'dimon', 'jpmorgan', 'chase', 'say', 'european', 'bank', 'need', 'merg', 'cross', 'border', 'rival', 'compet', 'global', 'bloomberg', 'smiledirectclub', 'sell', 'home', 'teeth', 'straighten', 'kit', 'report', 'pick', 'jpmorgan', 'lead', 'year', 'axio', 'polit', 'polici', 'senat', 'vote', 'overturn', 'presid', 'trump', 'declar', 'nation', 'emerg', 'border', 'wall', 'trump', 'respons', 'veto', 'presid', 'realdonaldtrump', 'hous', 'vote', 'demand', 'robert', 'mueller', 'forthcom', 'report', 'releas', 'public', 'senat', 'lindsey', 'graham', 'republican', 'south', 'carolina', 'block', 'similar', 'motion', 'senat', 'treasuri', 'secretari', 'steven', 'mnuchin', 'say', 'specul', 'white', 'hous', 'respond', 'democrat', 'request', 'presid', 'trump', 'return', 'politico', 'tech', 'spotifi', 'warn', 'stream', 'servic', 'need', 'rais', 'price', 'appl', 'continu', 'percent', 'compani', 'store', 'appl', 'say', 'polici', 'fair', 'spotifi', 'tri', 'bolster', 'financi', 'result', 'facebook', 'blame', 'server', 'configur', 'chang', 'disrupt', 'servic', 'week', 'stark', 'remind', 'power', 'internet', 'compani', 'crippl', 'human', 'error', 'competit', 'commission', 'report', 'issu', 'googl', 'antitrust', 'fine', 'relat', 'adsens', 'busi', 'week', 'huawei', 'want', 'quit', 'arrest', 'canada', 'accord', 'compani', 'founder', 'reuter', 'best', 'rest', 'share', 'jump', 'percent', 'thursday', 'despit', 'warn', 'fall', 'profit', 'descript', 'reset', 'year', 'economist', 'lower', 'forecast', 'employ', 'econom', 'growth', 'quarter', 'china', 'slowdown', 'spread', 'factori', 'offic', 'second', 'highest', 'offici', 'promis', 'corpor', 'cut', 'deregul', 'eas', 'problem', 'accus', 'volkswagen', 'undertak', 'massiv', 'fraud', 'diesel', 'emiss', 'scandal', 'show', 'like', 'success', 'billion', 'depict', 'lifestyl', 'percent', 'thank', 'read', 'week', 'love', 'feedback', 'email', 'thought', 'suggest', 'busi', 'nytim']\n"
     ]
    }
   ],
   "source": [
    "doc_sample = df[df['index'] == 43].values[0][0]\n",
    "print('original document: ')\n",
    "words = []\n",
    "for word in doc_sample.split(' '):\n",
    "    words.append(word)\n",
    "print(words)\n",
    "print('\\n\\n tokenized and lemmatized document: ')\n",
    "print(preprocess(doc_sample))"
   ]
  },
  {
   "cell_type": "code",
   "execution_count": 25,
   "metadata": {},
   "outputs": [
    {
     "data": {
      "text/plain": [
       "0    [scammer, cheat, paradigmat, figur, presid, un...\n",
       "1    [post, updat, friday, gunman, strap, helmet, c...\n",
       "Name: headline_text, dtype: object"
      ]
     },
     "execution_count": 25,
     "metadata": {},
     "output_type": "execute_result"
    }
   ],
   "source": [
    "processed_docs = df['headline_text'].map(preprocess)\n",
    "processed_docs[:2]"
   ]
  },
  {
   "cell_type": "code",
   "execution_count": 26,
   "metadata": {},
   "outputs": [
    {
     "name": "stdout",
     "output_type": "stream",
     "text": [
      "0 accomplish\n",
      "1 acquaint\n",
      "2 activ\n",
      "3 actress\n",
      "4 admiss\n",
      "5 adolesc\n",
      "6 ador\n",
      "7 adulthood\n",
      "8 advantag\n",
      "9 alex\n",
      "10 amaz\n"
     ]
    }
   ],
   "source": [
    "dictionary = gensim.corpora.Dictionary(processed_docs)\n",
    "count = 0\n",
    "for k, v in dictionary.iteritems():\n",
    "    print(k, v)\n",
    "    count += 1\n",
    "    if count > 10:\n",
    "        break"
   ]
  },
  {
   "cell_type": "code",
   "execution_count": 27,
   "metadata": {},
   "outputs": [],
   "source": [
    "dictionary.filter_extremes(no_below=15, no_above=0.6, keep_n=200000)"
   ]
  },
  {
   "cell_type": "code",
   "execution_count": 28,
   "metadata": {},
   "outputs": [
    {
     "data": {
      "text/plain": [
       "[(0, 1),\n",
       " (3, 2),\n",
       " (4, 1),\n",
       " (5, 2),\n",
       " (8, 11),\n",
       " (9, 2),\n",
       " (10, 1),\n",
       " (13, 4),\n",
       " (14, 1),\n",
       " (15, 2),\n",
       " (20, 2),\n",
       " (23, 3),\n",
       " (24, 1),\n",
       " (29, 2),\n",
       " (31, 4),\n",
       " (32, 1),\n",
       " (39, 3),\n",
       " (46, 1),\n",
       " (49, 2),\n",
       " (50, 1),\n",
       " (52, 1),\n",
       " (54, 1),\n",
       " (55, 10),\n",
       " (63, 1),\n",
       " (65, 9),\n",
       " (66, 2),\n",
       " (67, 1),\n",
       " (70, 1),\n",
       " (72, 1),\n",
       " (73, 2),\n",
       " (76, 2),\n",
       " (79, 1),\n",
       " (80, 1),\n",
       " (81, 1),\n",
       " (82, 2),\n",
       " (83, 1),\n",
       " (85, 1),\n",
       " (90, 1),\n",
       " (92, 2),\n",
       " (99, 4),\n",
       " (111, 1),\n",
       " (112, 3),\n",
       " (119, 1),\n",
       " (120, 1),\n",
       " (121, 1),\n",
       " (123, 1),\n",
       " (126, 1),\n",
       " (129, 3),\n",
       " (130, 1),\n",
       " (139, 1),\n",
       " (140, 1),\n",
       " (142, 1),\n",
       " (143, 2),\n",
       " (145, 2),\n",
       " (146, 3),\n",
       " (148, 3),\n",
       " (149, 2),\n",
       " (150, 1),\n",
       " (152, 1),\n",
       " (160, 1),\n",
       " (161, 3),\n",
       " (167, 1),\n",
       " (170, 1),\n",
       " (175, 3),\n",
       " (177, 1),\n",
       " (179, 1),\n",
       " (180, 1),\n",
       " (181, 3),\n",
       " (183, 1),\n",
       " (184, 1),\n",
       " (187, 2),\n",
       " (190, 1),\n",
       " (195, 1),\n",
       " (197, 2)]"
      ]
     },
     "execution_count": 28,
     "metadata": {},
     "output_type": "execute_result"
    }
   ],
   "source": [
    "bow_corpus = [dictionary.doc2bow(doc) for doc in processed_docs]\n",
    "bow_corpus[43]"
   ]
  },
  {
   "cell_type": "code",
   "execution_count": 29,
   "metadata": {},
   "outputs": [
    {
     "name": "stdout",
     "output_type": "stream",
     "text": [
      "Word 0 (\"base\") appears 1 time.\n",
      "Word 3 (\"build\") appears 2 time.\n",
      "Word 4 (\"case\") appears 1 time.\n",
      "Word 5 (\"charg\") appears 2 time.\n",
      "Word 8 (\"compani\") appears 11 time.\n",
      "Word 9 (\"cost\") appears 2 time.\n",
      "Word 10 (\"countri\") appears 1 time.\n",
      "Word 13 (\"execut\") appears 4 time.\n",
      "Word 14 (\"expect\") appears 1 time.\n",
      "Word 15 (\"face\") appears 2 time.\n",
      "Word 20 (\"have\") appears 2 time.\n",
      "Word 23 (\"high\") appears 3 time.\n",
      "Word 24 (\"learn\") appears 1 time.\n",
      "Word 29 (\"make\") appears 2 time.\n",
      "Word 31 (\"million\") appears 4 time.\n",
      "Word 32 (\"month\") appears 1 time.\n",
      "Word 39 (\"plan\") appears 3 time.\n",
      "Word 46 (\"rais\") appears 1 time.\n",
      "Word 49 (\"recent\") appears 2 time.\n",
      "Word 50 (\"report\") appears 1 time.\n",
      "Word 52 (\"seven\") appears 1 time.\n",
      "Word 54 (\"start\") appears 1 time.\n",
      "Word 55 (\"state\") appears 10 time.\n",
      "Word 63 (\"turn\") appears 1 time.\n",
      "Word 65 (\"unit\") appears 9 time.\n",
      "Word 66 (\"week\") appears 2 time.\n",
      "Word 67 (\"world\") appears 1 time.\n",
      "Word 70 (\"allow\") appears 1 time.\n",
      "Word 72 (\"begin\") appears 1 time.\n",
      "Word 73 (\"board\") appears 2 time.\n",
      "Word 76 (\"come\") appears 2 time.\n",
      "Word 79 (\"drive\") appears 1 time.\n",
      "Word 80 (\"friday\") appears 1 time.\n",
      "Word 81 (\"histori\") appears 1 time.\n",
      "Word 82 (\"includ\") appears 2 time.\n",
      "Word 83 (\"later\") appears 1 time.\n",
      "Word 85 (\"long\") appears 1 time.\n",
      "Word 90 (\"share\") appears 1 time.\n",
      "Word 92 (\"short\") appears 2 time.\n",
      "Word 99 (\"american\") appears 4 time.\n",
      "Word 111 (\"get\") appears 1 time.\n",
      "Word 112 (\"govern\") appears 3 time.\n",
      "Word 119 (\"lower\") appears 1 time.\n",
      "Word 120 (\"major\") appears 1 time.\n",
      "Word 121 (\"near\") appears 1 time.\n",
      "Word 123 (\"note\") appears 1 time.\n",
      "Word 126 (\"offici\") appears 1 time.\n",
      "Word 129 (\"public\") appears 3 time.\n",
      "Word 130 (\"relat\") appears 1 time.\n",
      "Word 139 (\"center\") appears 1 time.\n",
      "Word 140 (\"day\") appears 1 time.\n",
      "Word 142 (\"lose\") appears 1 time.\n",
      "Word 143 (\"money\") appears 2 time.\n",
      "Word 145 (\"question\") appears 2 time.\n",
      "Word 146 (\"accus\") appears 3 time.\n",
      "Word 148 (\"claim\") appears 3 time.\n",
      "Word 149 (\"investig\") appears 2 time.\n",
      "Word 150 (\"provid\") appears 1 time.\n",
      "Word 152 (\"author\") appears 1 time.\n",
      "Word 160 (\"instead\") appears 1 time.\n",
      "Word 161 (\"know\") appears 3 time.\n",
      "Word 167 (\"suggest\") appears 1 time.\n",
      "Word 170 (\"director\") appears 1 time.\n",
      "Word 175 (\"court\") appears 3 time.\n",
      "Word 177 (\"general\") appears 1 time.\n",
      "Word 179 (\"issu\") appears 1 time.\n",
      "Word 180 (\"list\") appears 1 time.\n",
      "Word 181 (\"manag\") appears 3 time.\n",
      "Word 183 (\"past\") appears 1 time.\n",
      "Word 184 (\"see\") appears 1 time.\n",
      "Word 187 (\"control\") appears 2 time.\n",
      "Word 190 (\"mean\") appears 1 time.\n",
      "Word 195 (\"end\") appears 1 time.\n",
      "Word 197 (\"discuss\") appears 2 time.\n"
     ]
    }
   ],
   "source": [
    "bow_doc_43 = bow_corpus[43]\n",
    "for i in range(len(bow_doc_43)):\n",
    "    print(\"Word {} (\\\"{}\\\") appears {} time.\".format(bow_doc_43[i][0], \n",
    "                                               dictionary[bow_doc_43[i][0]], \n",
    "bow_doc_43[i][1]))"
   ]
  },
  {
   "cell_type": "code",
   "execution_count": 30,
   "metadata": {},
   "outputs": [
    {
     "name": "stdout",
     "output_type": "stream",
     "text": [
      "[(0, 0.06981039542797939),\n",
      " (1, 0.13351204075226575),\n",
      " (2, 0.15996889880603635),\n",
      " (3, 0.0583966520236445),\n",
      " (4, 0.04874646947753733),\n",
      " (5, 0.06384376177677059),\n",
      " (6, 0.061060980515050156),\n",
      " (7, 0.45843721753344024),\n",
      " (8, 0.07302147211467168),\n",
      " (9, 0.08377968837292023),\n",
      " (10, 0.2002680611283986),\n",
      " (11, 0.08781994632657492),\n",
      " (12, 0.07640620292224005),\n",
      " (13, 0.06981039542797939),\n",
      " (14, 0.08377968837292023),\n",
      " (15, 0.05584110248303853),\n",
      " (16, 0.06981039542797939),\n",
      " (17, 0.10677159358321707),\n",
      " (18, 0.04654967318483164),\n",
      " (19, 0.15996889880603635),\n",
      " (20, 0.07302147211467168),\n",
      " (21, 0.10677159358321707),\n",
      " (22, 0.1097755864654407),\n",
      " (23, 0.33504661489823123),\n",
      " (24, 0.06981039542797939),\n",
      " (25, 0.04874646947753733),\n",
      " (26, 0.07998444940301817),\n",
      " (27, 0.10677159358321707),\n",
      " (28, 0.13962079085595877),\n",
      " (29, 0.04874646947753733),\n",
      " (30, 0.08781994632657492),\n",
      " (31, 0.12212196103010031),\n",
      " (32, 0.04442735907870365),\n",
      " (33, 0.0583966520236445),\n",
      " (34, 0.08781994632657492),\n",
      " (35, 0.08377968837292023),\n",
      " (36, 0.061060980515050156),\n",
      " (37, 0.033013615674368765),\n",
      " (38, 0.061060980515050156),\n",
      " (39, 0.06384376177677059),\n",
      " (40, 0.07302147211467168),\n",
      " (41, 0.061060980515050156),\n",
      " (42, 0.07640620292224005),\n",
      " (43, 0.04874646947753733),\n",
      " (44, 0.16755937674584045),\n",
      " (45, 0.07640620292224005),\n",
      " (46, 0.07998444940301817),\n",
      " (47, 0.07302147211467168),\n",
      " (48, 0.07998444940301817),\n",
      " (49, 0.07692145085498972),\n",
      " (50, 0.04874646947753733),\n",
      " (51, 0.061060980515050156),\n",
      " (52, 0.08781994632657492),\n",
      " (53, 0.22921860876672012),\n",
      " (54, 0.042374641722860894),\n",
      " (55, 0.05102316657296431),\n",
      " (56, 0.12212196103010031),\n",
      " (57, 0.26345983897972475),\n",
      " (58, 0.2399533482090545),\n",
      " (59, 0.08781994632657492),\n",
      " (60, 0.13351204075226575),\n",
      " (61, 0.03477717653259649),\n",
      " (62, 0.07640620292224005),\n",
      " (63, 0.04874646947753733),\n",
      " (64, 0.07998444940301817),\n",
      " (65, 0.06981039542797939),\n",
      " (66, 0.04442735907870365),\n",
      " (67, 0.05102316657296431),\n",
      " (68, 0.05584110248303853),\n",
      " (69, 0.13328207723611094)]\n"
     ]
    }
   ],
   "source": [
    "from gensim import corpora, models\n",
    "tfidf = models.TfidfModel(bow_corpus)\n",
    "corpus_tfidf = tfidf[bow_corpus]\n",
    "from pprint import pprint\n",
    "for doc in corpus_tfidf:\n",
    "    pprint(doc)\n",
    "    break"
   ]
  },
  {
   "cell_type": "code",
   "execution_count": 31,
   "metadata": {},
   "outputs": [],
   "source": [
    "lda_model = gensim.models.LdaMulticore(bow_corpus, num_topics=6, id2word=dictionary, passes=2, workers=2)"
   ]
  },
  {
   "cell_type": "code",
   "execution_count": 32,
   "metadata": {},
   "outputs": [
    {
     "name": "stdout",
     "output_type": "stream",
     "text": [
      "Topic: 0 \n",
      "Words: 0.043*\"compani\" + 0.021*\"state\" + 0.018*\"american\" + 0.018*\"unit\" + 0.018*\"peopl\" + 0.017*\"percent\" + 0.015*\"public\" + 0.014*\"student\" + 0.013*\"long\" + 0.013*\"make\"\n",
      "Topic: 1 \n",
      "Words: 0.035*\"trump\" + 0.023*\"presid\" + 0.015*\"tell\" + 0.014*\"state\" + 0.014*\"know\" + 0.014*\"stori\" + 0.013*\"report\" + 0.013*\"peopl\" + 0.012*\"write\" + 0.012*\"case\"\n",
      "Topic: 2 \n",
      "Words: 0.031*\"peopl\" + 0.022*\"list\" + 0.020*\"govern\" + 0.020*\"includ\" + 0.019*\"shoot\" + 0.015*\"report\" + 0.014*\"offici\" + 0.013*\"friday\" + 0.013*\"citi\" + 0.012*\"famili\"\n",
      "Topic: 3 \n",
      "Words: 0.045*\"school\" + 0.019*\"million\" + 0.015*\"go\" + 0.015*\"offici\" + 0.015*\"student\" + 0.014*\"money\" + 0.014*\"compani\" + 0.013*\"good\" + 0.013*\"citi\" + 0.013*\"includ\"\n",
      "Topic: 4 \n",
      "Words: 0.027*\"school\" + 0.025*\"need\" + 0.024*\"colleg\" + 0.021*\"student\" + 0.017*\"york\" + 0.016*\"famili\" + 0.013*\"help\" + 0.013*\"long\" + 0.013*\"peopl\" + 0.013*\"know\"\n",
      "Topic: 5 \n",
      "Words: 0.029*\"peopl\" + 0.021*\"want\" + 0.020*\"york\" + 0.015*\"know\" + 0.015*\"citi\" + 0.014*\"go\" + 0.014*\"good\" + 0.012*\"help\" + 0.012*\"state\" + 0.012*\"thing\"\n"
     ]
    }
   ],
   "source": [
    "for idx, topic in lda_model.print_topics(-1):\n",
    "     print('Topic: {} \\nWords: {}'.format(idx, topic))"
   ]
  },
  {
   "cell_type": "code",
   "execution_count": 33,
   "metadata": {},
   "outputs": [
    {
     "name": "stdout",
     "output_type": "stream",
     "text": [
      "Topic: 0 Word: 0.018*\"trump\" + 0.016*\"social\" + 0.015*\"final\" + 0.014*\"real\" + 0.014*\"twitter\" + 0.012*\"life\" + 0.011*\"nytim\" + 0.010*\"york\" + 0.009*\"report\" + 0.009*\"live\"\n",
      "\n",
      "\n",
      "Topic: 1 Word: 0.012*\"depart\" + 0.011*\"certain\" + 0.011*\"direct\" + 0.010*\"social\" + 0.007*\"compani\" + 0.007*\"continu\" + 0.007*\"list\" + 0.007*\"nation\" + 0.007*\"final\" + 0.007*\"director\"\n",
      "\n",
      "\n",
      "Topic: 2 Word: 0.012*\"compani\" + 0.009*\"citi\" + 0.008*\"famili\" + 0.008*\"peopl\" + 0.008*\"state\" + 0.008*\"trump\" + 0.008*\"york\" + 0.008*\"live\" + 0.008*\"stori\" + 0.008*\"write\"\n",
      "\n",
      "\n",
      "Topic: 3 Word: 0.031*\"trump\" + 0.012*\"presid\" + 0.011*\"depart\" + 0.008*\"accus\" + 0.008*\"releas\" + 0.008*\"case\" + 0.007*\"state\" + 0.007*\"nation\" + 0.007*\"friday\" + 0.007*\"govern\"\n",
      "\n",
      "\n",
      "Topic: 4 Word: 0.023*\"student\" + 0.018*\"school\" + 0.014*\"colleg\" + 0.010*\"need\" + 0.009*\"govern\" + 0.008*\"compani\" + 0.008*\"state\" + 0.007*\"director\" + 0.007*\"million\" + 0.007*\"money\"\n",
      "\n",
      "\n",
      "Topic: 5 Word: 0.011*\"polit\" + 0.010*\"trump\" + 0.010*\"white\" + 0.009*\"presid\" + 0.009*\"support\" + 0.007*\"critic\" + 0.007*\"social\" + 0.007*\"author\" + 0.007*\"run\" + 0.007*\"appear\"\n",
      "\n",
      "\n"
     ]
    }
   ],
   "source": [
    "lda_model_tfidf = gensim.models.LdaMulticore(corpus_tfidf, num_topics=6, id2word=dictionary, passes=4, workers=4)\n",
    "for idx, topic in lda_model_tfidf.print_topics(-1):\n",
    "    print('Topic: {} Word: {}'.format(idx, topic))\n",
    "    print('\\n')"
   ]
  },
  {
   "cell_type": "code",
   "execution_count": 34,
   "metadata": {},
   "outputs": [
    {
     "name": "stdout",
     "output_type": "stream",
     "text": [
      "Score: 0.5791175961494446\t Topic: 0.027*\"school\" + 0.025*\"need\" + 0.024*\"colleg\" + 0.021*\"student\"\n",
      "Score: 0.08475913852453232\t Topic: 0.029*\"peopl\" + 0.021*\"want\" + 0.020*\"york\" + 0.015*\"know\"\n",
      "Score: 0.08417338132858276\t Topic: 0.035*\"trump\" + 0.023*\"presid\" + 0.015*\"tell\" + 0.014*\"state\"\n",
      "Score: 0.08410275727510452\t Topic: 0.045*\"school\" + 0.019*\"million\" + 0.015*\"go\" + 0.015*\"offici\"\n",
      "Score: 0.08405321836471558\t Topic: 0.043*\"compani\" + 0.021*\"state\" + 0.018*\"american\" + 0.018*\"unit\"\n",
      "Score: 0.08379385620355606\t Topic: 0.031*\"peopl\" + 0.022*\"list\" + 0.020*\"govern\" + 0.020*\"includ\"\n"
     ]
    }
   ],
   "source": [
    "unseen_document = 'i love her'\n",
    "bow_vector = dictionary.doc2bow(preprocess(unseen_document))\n",
    "for index, score in sorted(lda_model[bow_vector], key=lambda tup: -1*tup[1]):\n",
    "    print(\"Score: {}\\t Topic: {}\".format(score, lda_model.print_topic(index, 4)))"
   ]
  },
  {
   "cell_type": "code",
   "execution_count": 35,
   "metadata": {},
   "outputs": [
    {
     "name": "stdout",
     "output_type": "stream",
     "text": [
      "6\n",
      "0 compani 0.04338564\n",
      "0 state 0.02117585\n",
      "0 american 0.018027103\n",
      "1 trump 0.035471614\n",
      "1 presid 0.023229191\n",
      "1 tell 0.01523344\n",
      "\n",
      "Topic: 0\n",
      "0.043*\"compani\" + 0.021*\"state\" + 0.018*\"american\" + 0.018*\"unit\" + 0.018*\"peopl\" + 0.017*\"percent\" + 0.015*\"public\" + 0.014*\"student\" + 0.013*\"long\" + 0.013*\"make\"\n",
      "Topic: 1\n",
      "0.035*\"trump\" + 0.023*\"presid\" + 0.015*\"tell\" + 0.014*\"state\" + 0.014*\"know\" + 0.014*\"stori\" + 0.013*\"report\" + 0.013*\"peopl\" + 0.012*\"write\" + 0.012*\"case\"\n",
      "Topic: 2\n",
      "0.031*\"peopl\" + 0.022*\"list\" + 0.020*\"govern\" + 0.020*\"includ\" + 0.019*\"shoot\" + 0.015*\"report\" + 0.014*\"offici\" + 0.013*\"friday\" + 0.013*\"citi\" + 0.012*\"famili\"\n",
      "Topic: 3\n",
      "0.045*\"school\" + 0.019*\"million\" + 0.015*\"go\" + 0.015*\"offici\" + 0.015*\"student\" + 0.014*\"money\" + 0.014*\"compani\" + 0.013*\"good\" + 0.013*\"citi\" + 0.013*\"includ\"\n",
      "Topic: 4\n",
      "0.027*\"school\" + 0.025*\"need\" + 0.024*\"colleg\" + 0.021*\"student\" + 0.017*\"york\" + 0.016*\"famili\" + 0.013*\"help\" + 0.013*\"long\" + 0.013*\"peopl\" + 0.013*\"know\"\n",
      "Topic: 5\n",
      "0.029*\"peopl\" + 0.021*\"want\" + 0.020*\"york\" + 0.015*\"know\" + 0.015*\"citi\" + 0.014*\"go\" + 0.014*\"good\" + 0.012*\"help\" + 0.012*\"state\" + 0.012*\"thing\"\n"
     ]
    }
   ],
   "source": [
    "\n",
    "# Load a potentially pretrained model from disk.\n",
    "#lda = LdaModel.load(temp_file)\n",
    "top_words_per_topic=[]\n",
    "string_sent=\"\"\n",
    "print(lda_model.num_topics)\n",
    "for t in range(lda_model.num_topics):\n",
    "    top_words_per_topic.extend([(t, ) + x for x in lda_model.show_topic(t, topn = 3)])\n",
    "for t in range(lda_model.num_topics):\n",
    "    string_sent+=str(top_words_per_topic[t][0])+\" \"+str(top_words_per_topic[t][1])+\" \"+str(top_words_per_topic[t][2])\n",
    "    string_sent+='\\n'\n",
    "    \n",
    "print(string_sent)  \n",
    "for idx, topic in lda_model.print_topics(-1):\n",
    "    print(\"Topic: \"+str(idx))\n",
    "    print(topic)\n",
    "    "
   ]
  },
  {
   "cell_type": "code",
   "execution_count": 36,
   "metadata": {},
   "outputs": [],
   "source": [
    "lda_model.save('march15model')"
   ]
  },
  {
   "cell_type": "code",
   "execution_count": null,
   "metadata": {},
   "outputs": [],
   "source": []
  }
 ],
 "metadata": {
  "kernelspec": {
   "display_name": "Python 3",
   "language": "python",
   "name": "python3"
  },
  "language_info": {
   "codemirror_mode": {
    "name": "ipython",
    "version": 3
   },
   "file_extension": ".py",
   "mimetype": "text/x-python",
   "name": "python",
   "nbconvert_exporter": "python",
   "pygments_lexer": "ipython3",
   "version": "3.6.7"
  }
 },
 "nbformat": 4,
 "nbformat_minor": 2
}
